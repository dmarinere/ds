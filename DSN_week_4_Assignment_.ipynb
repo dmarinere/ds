{
  "nbformat": 4,
  "nbformat_minor": 0,
  "metadata": {
    "kernelspec": {
      "display_name": "Python 3",
      "language": "python",
      "name": "python3"
    },
    "language_info": {
      "codemirror_mode": {
        "name": "ipython",
        "version": 3
      },
      "file_extension": ".py",
      "mimetype": "text/x-python",
      "name": "python",
      "nbconvert_exporter": "python",
      "pygments_lexer": "ipython3",
      "version": "3.7.4"
    },
    "colab": {
      "name": "DSN week 4 Assignment .ipynb",
      "provenance": [],
      "include_colab_link": true
    }
  },
  "cells": [
    {
      "cell_type": "markdown",
      "metadata": {
        "id": "view-in-github",
        "colab_type": "text"
      },
      "source": [
        "<a href=\"https://colab.research.google.com/github/dmarinere/ds/blob/master/DSN_week_4_Assignment_.ipynb\" target=\"_parent\"><img src=\"https://colab.research.google.com/assets/colab-badge.svg\" alt=\"Open In Colab\"/></a>"
      ]
    },
    {
      "cell_type": "code",
      "metadata": {
        "id": "q0SGBaI9QM7X",
        "colab_type": "code",
        "colab": {},
        "outputId": "e7719670-5b48-4ce2-f47b-dd480801b8b4"
      },
      "source": [
        "pwd"
      ],
      "execution_count": 0,
      "outputs": [
        {
          "output_type": "execute_result",
          "data": {
            "text/plain": [
              "\"C:\\\\Users\\\\Tayo Swavey\\\\Desktop\\\\Iyanu's File\""
            ]
          },
          "metadata": {
            "tags": []
          },
          "execution_count": 2
        }
      ]
    },
    {
      "cell_type": "code",
      "metadata": {
        "id": "GGVyXD-cQM7e",
        "colab_type": "code",
        "colab": {}
      },
      "source": [
        "#import modules\n",
        "\n",
        "import pandas as pd\n",
        "import matplotlib.pyplot as plt\n",
        "import seaborn as sns\n",
        "import numpy as np\n",
        "\n",
        "%matplotlib inline"
      ],
      "execution_count": 0,
      "outputs": []
    },
    {
      "cell_type": "code",
      "metadata": {
        "id": "irnCdSM_QM7j",
        "colab_type": "code",
        "colab": {},
        "outputId": "5f2a1b28-3ede-405d-a2cb-46a555693bd2"
      },
      "source": [
        "data= pd.read_csv(\"Salary_Data.csv\")\n",
        "data.head()"
      ],
      "execution_count": 0,
      "outputs": [
        {
          "output_type": "execute_result",
          "data": {
            "text/html": [
              "<div>\n",
              "<style scoped>\n",
              "    .dataframe tbody tr th:only-of-type {\n",
              "        vertical-align: middle;\n",
              "    }\n",
              "\n",
              "    .dataframe tbody tr th {\n",
              "        vertical-align: top;\n",
              "    }\n",
              "\n",
              "    .dataframe thead th {\n",
              "        text-align: right;\n",
              "    }\n",
              "</style>\n",
              "<table border=\"1\" class=\"dataframe\">\n",
              "  <thead>\n",
              "    <tr style=\"text-align: right;\">\n",
              "      <th></th>\n",
              "      <th>YearsExperience</th>\n",
              "      <th>Salary</th>\n",
              "    </tr>\n",
              "  </thead>\n",
              "  <tbody>\n",
              "    <tr>\n",
              "      <td>0</td>\n",
              "      <td>1.1</td>\n",
              "      <td>39343.0</td>\n",
              "    </tr>\n",
              "    <tr>\n",
              "      <td>1</td>\n",
              "      <td>1.3</td>\n",
              "      <td>46205.0</td>\n",
              "    </tr>\n",
              "    <tr>\n",
              "      <td>2</td>\n",
              "      <td>1.5</td>\n",
              "      <td>37731.0</td>\n",
              "    </tr>\n",
              "    <tr>\n",
              "      <td>3</td>\n",
              "      <td>2.0</td>\n",
              "      <td>43525.0</td>\n",
              "    </tr>\n",
              "    <tr>\n",
              "      <td>4</td>\n",
              "      <td>2.2</td>\n",
              "      <td>39891.0</td>\n",
              "    </tr>\n",
              "  </tbody>\n",
              "</table>\n",
              "</div>"
            ],
            "text/plain": [
              "   YearsExperience   Salary\n",
              "0              1.1  39343.0\n",
              "1              1.3  46205.0\n",
              "2              1.5  37731.0\n",
              "3              2.0  43525.0\n",
              "4              2.2  39891.0"
            ]
          },
          "metadata": {
            "tags": []
          },
          "execution_count": 3
        }
      ]
    },
    {
      "cell_type": "code",
      "metadata": {
        "scrolled": true,
        "id": "yRVieicDQM7n",
        "colab_type": "code",
        "colab": {},
        "outputId": "236b59d1-3811-46d9-f49f-4346feb7dd34"
      },
      "source": [
        "data.info()  #This proves there is no missing data in our dataset "
      ],
      "execution_count": 0,
      "outputs": [
        {
          "output_type": "stream",
          "text": [
            "<class 'pandas.core.frame.DataFrame'>\n",
            "RangeIndex: 30 entries, 0 to 29\n",
            "Data columns (total 2 columns):\n",
            "YearsExperience    30 non-null float64\n",
            "Salary             30 non-null float64\n",
            "dtypes: float64(2)\n",
            "memory usage: 544.0 bytes\n"
          ],
          "name": "stdout"
        }
      ]
    },
    {
      "cell_type": "markdown",
      "metadata": {
        "id": "HAZ9UPxuQM7r",
        "colab_type": "text"
      },
      "source": [
        "### Question 1"
      ]
    },
    {
      "cell_type": "markdown",
      "metadata": {
        "id": "odV6XIeFQM7s",
        "colab_type": "text"
      },
      "source": [
        "In the assignment we were told to find the best Linear regression equation that would predict the Salary based on the experience of the individual.\n",
        "This would be gotten from the regression coefficient and the intercept."
      ]
    },
    {
      "cell_type": "code",
      "metadata": {
        "id": "Djf8TlYyQM7t",
        "colab_type": "code",
        "colab": {}
      },
      "source": [
        "#This would convert the panda dataframe to numpy and also differentiate the data clearly , \n",
        "#X here is the Independent dataframe which is the Year of Experience and y is our dependent data in this data.\n",
        "X = data.iloc[:, :-1].values #All rows, all columns excluding the last column indexed -1\n",
        "y = data.iloc[:, 1].values #All rows, column 1"
      ],
      "execution_count": 0,
      "outputs": []
    },
    {
      "cell_type": "code",
      "metadata": {
        "id": "gg4VICZmQM7x",
        "colab_type": "code",
        "colab": {},
        "outputId": "38d9123f-74aa-4812-be4f-c1ebac0d8596"
      },
      "source": [
        "from sklearn.linear_model import LinearRegression\n",
        "regressor = LinearRegression()\n",
        "regressor.fit(X, y)"
      ],
      "execution_count": 0,
      "outputs": [
        {
          "output_type": "execute_result",
          "data": {
            "text/plain": [
              "LinearRegression(copy_X=True, fit_intercept=True, n_jobs=None, normalize=False)"
            ]
          },
          "metadata": {
            "tags": []
          },
          "execution_count": 15
        }
      ]
    },
    {
      "cell_type": "markdown",
      "metadata": {
        "id": "thoMNk5iQM71",
        "colab_type": "text"
      },
      "source": [
        "Next we would find the regression score\n"
      ]
    },
    {
      "cell_type": "code",
      "metadata": {
        "id": "U2zXl79NQM72",
        "colab_type": "code",
        "colab": {},
        "outputId": "c54759cf-bedf-4110-c9ad-d510e694427e"
      },
      "source": [
        "print(\"The regression score is:\", regressor.score(X,y))"
      ],
      "execution_count": 0,
      "outputs": [
        {
          "output_type": "stream",
          "text": [
            "The regression score is: 0.9569566641435084\n"
          ],
          "name": "stdout"
        }
      ]
    },
    {
      "cell_type": "code",
      "metadata": {
        "id": "tvltU1C9QM77",
        "colab_type": "code",
        "colab": {},
        "outputId": "7182a087-e305-44f1-9132-b97ec2887e23"
      },
      "source": [
        "print('The intercept for this equation is :', regressor.intercept_)"
      ],
      "execution_count": 0,
      "outputs": [
        {
          "output_type": "stream",
          "text": [
            "The intercept for this equation is : 25792.200198668717\n"
          ],
          "name": "stdout"
        }
      ]
    },
    {
      "cell_type": "code",
      "metadata": {
        "id": "3VNWj1yqQM7_",
        "colab_type": "code",
        "colab": {},
        "outputId": "9adeb53c-ad63-4579-f1ba-b89c14e5f0d2"
      },
      "source": [
        "print(\"The Slope of the regression is: \", regressor.coef_)"
      ],
      "execution_count": 0,
      "outputs": [
        {
          "output_type": "stream",
          "text": [
            "The Slope of the regression is:  [9449.96232146]\n"
          ],
          "name": "stdout"
        }
      ]
    },
    {
      "cell_type": "markdown",
      "metadata": {
        "id": "mrJV5q45QM8D",
        "colab_type": "text"
      },
      "source": [
        "### The equation for the linear regression here is Pred"
      ]
    },
    {
      "cell_type": "markdown",
      "metadata": {
        "id": "Fg7528jyQM8D",
        "colab_type": "text"
      },
      "source": [
        "The linear equation for the predicted data frame is \n",
        "the co-efficient and the intercept which are\n",
        "#### Pred = 9449.96X + 25792.2 "
      ]
    },
    {
      "cell_type": "markdown",
      "metadata": {
        "id": "ZbbFH4z3QM8E",
        "colab_type": "text"
      },
      "source": [
        "## Question 2"
      ]
    },
    {
      "cell_type": "markdown",
      "metadata": {
        "id": "eVNEf5uCQM8F",
        "colab_type": "text"
      },
      "source": [
        "#### What new value of y will the linear regression equation suggest in line with 20% split of the previous Salary?"
      ]
    },
    {
      "cell_type": "code",
      "metadata": {
        "id": "00qPqV-vQM8F",
        "colab_type": "code",
        "colab": {}
      },
      "source": [
        "\n",
        "#train_test_split\n",
        "from sklearn.model_selection import train_test_split\n",
        "#we splitted our data by 20 percent here.\n",
        "x_train, x_test,y_train, y_test= train_test_split(X, y, test_size=0.2)b"
      ],
      "execution_count": 0,
      "outputs": []
    },
    {
      "cell_type": "code",
      "metadata": {
        "id": "Jxp-mgqYQM8J",
        "colab_type": "code",
        "colab": {},
        "outputId": "ab01d567-3ea0-44e1-f33f-ce726771d5e0"
      },
      "source": [
        "from sklearn.linear_model import LinearRegression\n",
        "regressor_2 = LinearRegression()\n",
        "regressor_2.fit(x_train, y_train)"
      ],
      "execution_count": 0,
      "outputs": [
        {
          "output_type": "execute_result",
          "data": {
            "text/plain": [
              "LinearRegression(copy_X=True, fit_intercept=True, n_jobs=None, normalize=False)"
            ]
          },
          "metadata": {
            "tags": []
          },
          "execution_count": 27
        }
      ]
    },
    {
      "cell_type": "code",
      "metadata": {
        "id": "L-1-hkH2QM8N",
        "colab_type": "code",
        "colab": {},
        "outputId": "369761f3-e240-4b9e-dc10-8769fc3ae799"
      },
      "source": [
        "regressor_2.score(x_train, y_train)"
      ],
      "execution_count": 0,
      "outputs": [
        {
          "output_type": "execute_result",
          "data": {
            "text/plain": [
              "0.967952568814689"
            ]
          },
          "metadata": {
            "tags": []
          },
          "execution_count": 28
        }
      ]
    },
    {
      "cell_type": "code",
      "metadata": {
        "id": "-GtBSp5tQM8R",
        "colab_type": "code",
        "colab": {},
        "outputId": "8948e22d-3077-4742-e4ad-e4c8618c199b"
      },
      "source": [
        "\n",
        "regressor_2.coef_"
      ],
      "execution_count": 0,
      "outputs": [
        {
          "output_type": "execute_result",
          "data": {
            "text/plain": [
              "array([9455.89017044])"
            ]
          },
          "metadata": {
            "tags": []
          },
          "execution_count": 29
        }
      ]
    },
    {
      "cell_type": "code",
      "metadata": {
        "id": "9z7985OHQM8U",
        "colab_type": "code",
        "colab": {}
      },
      "source": [
        "y_pred = regressor_2.predict(x_test)"
      ],
      "execution_count": 0,
      "outputs": []
    },
    {
      "cell_type": "code",
      "metadata": {
        "id": "JyzwKUZNQM8Y",
        "colab_type": "code",
        "colab": {},
        "outputId": "e03f49aa-5bda-4066-fcba-320f00fd7e87"
      },
      "source": [
        "y_pred #This are the new salary that the linear regression suggested "
      ],
      "execution_count": 0,
      "outputs": [
        {
          "output_type": "execute_result",
          "data": {
            "text/plain": [
              "array([ 81769.77037357, 115810.97498717,  67585.93511791, 102572.72874855,\n",
              "        55293.27789633,  37327.08657249])"
            ]
          },
          "metadata": {
            "tags": []
          },
          "execution_count": 31
        }
      ]
    },
    {
      "cell_type": "code",
      "metadata": {
        "id": "znt_SFTjQM8c",
        "colab_type": "code",
        "colab": {},
        "outputId": "9ca63fbc-1012-4906-8de4-643cb20b197c"
      },
      "source": [
        "y_test"
      ],
      "execution_count": 0,
      "outputs": [
        {
          "output_type": "execute_result",
          "data": {
            "text/plain": [
              "array([ 93940., 112635.,  61111., 113812.,  54445.,  46205.])"
            ]
          },
          "metadata": {
            "tags": []
          },
          "execution_count": 34
        }
      ]
    },
    {
      "cell_type": "code",
      "metadata": {
        "scrolled": true,
        "id": "y8NlCOIMQM8h",
        "colab_type": "code",
        "colab": {},
        "outputId": "81fb0be5-28dd-48b8-df35-2d4072fb0878"
      },
      "source": [
        "# Visualising the results\n",
        "plt.scatter(x_test, y_test, color = 'red') #Scatter plot of the X an y dataset\n",
        "\n",
        "plt.plot(x_test, regressor_2.predict(x_test), color = 'blue')#Line plot of X against predicted Y \n",
        "#(remember that output of regressor_2.predict is y_pred)\n",
        "\n",
        "plt.title('Simple Linear Regression of Predictor vs Dependent variable')\n",
        "plt.xlabel('x_test (Predictor)')\n",
        "plt.ylabel('y_test(Dependent Variable)')\n",
        "plt.show()\n"
      ],
      "execution_count": 0,
      "outputs": [
        {
          "output_type": "display_data",
          "data": {
            "image/png": "[encoded data removed]",
            "text/plain": [
              "<Figure size 432x288 with 1 Axes>"
            ]
          },
          "metadata": {
            "tags": [],
            "needs_background": "light"
          }
        }
      ]
    },
    {
      "cell_type": "markdown",
      "metadata": {
        "id": "ok-GBQ2OQM8l",
        "colab_type": "text"
      },
      "source": [
        "Question 3"
      ]
    },
    {
      "cell_type": "code",
      "metadata": {
        "id": "vbToDBNUQM8l",
        "colab_type": "code",
        "colab": {},
        "outputId": "b9b96f06-c018-47e9-a9fc-0249226757f4"
      },
      "source": [
        "from sklearn import metrics\n",
        "\n",
        "print('Mean Absolute Error:', metrics.mean_absolute_error(y_test, y_pred))  \n",
        "print('Mean Squared Error:', metrics.mean_squared_error(y_test, y_pred))  \n",
        "print('Root Mean Squared Error:', np.sqrt(metrics.mean_squared_error(y_test, y_pred)))"
      ],
      "execution_count": 0,
      "outputs": [
        {
          "output_type": "stream",
          "text": [
            "Mean Absolute Error: 7131.100384466475\n",
            "Mean Squared Error: 67664038.58995993\n",
            "Root Mean Squared Error: 8225.81537538741\n"
          ],
          "name": "stdout"
        }
      ]
    },
    {
      "cell_type": "code",
      "metadata": {
        "id": "NtuoXOZvQM8p",
        "colab_type": "code",
        "colab": {},
        "outputId": "6ce0c5df-4ced-4c98-b4a4-4f0df8264427"
      },
      "source": [
        "#Importing Polynomial Feature class from SKLearn\n",
        "\n",
        "from sklearn.preprocessing import PolynomialFeatures\n",
        "poly_reg = PolynomialFeatures(degree = 6) #Degree depicts the Curves\n",
        "X_poly = poly_reg.fit_transform(x_train)\n",
        "poly_reg.fit(X_poly, y_train) #Transform X as polynomial feature"
      ],
      "execution_count": 0,
      "outputs": [
        {
          "output_type": "execute_result",
          "data": {
            "text/plain": [
              "PolynomialFeatures(degree=6, include_bias=True, interaction_only=False,\n",
              "                   order='C')"
            ]
          },
          "metadata": {
            "tags": []
          },
          "execution_count": 107
        }
      ]
    },
    {
      "cell_type": "code",
      "metadata": {
        "id": "46rE9jgGQM8s",
        "colab_type": "code",
        "colab": {},
        "outputId": "a41b3e5c-f580-4fed-9af0-8754e8e3bc0f"
      },
      "source": [
        "regressor_3 = LinearRegression()\n",
        "regressor_3.fit(X_poly, y_train)"
      ],
      "execution_count": 0,
      "outputs": [
        {
          "output_type": "execute_result",
          "data": {
            "text/plain": [
              "LinearRegression(copy_X=True, fit_intercept=True, n_jobs=None, normalize=False)"
            ]
          },
          "metadata": {
            "tags": []
          },
          "execution_count": 108
        }
      ]
    },
    {
      "cell_type": "code",
      "metadata": {
        "id": "uKpG_0AUQM8v",
        "colab_type": "code",
        "colab": {},
        "outputId": "b55c24bc-9f9a-4401-8157-d923ab8b3af9"
      },
      "source": [
        "regressor_3.score(X_poly, y_train)"
      ],
      "execution_count": 0,
      "outputs": [
        {
          "output_type": "execute_result",
          "data": {
            "text/plain": [
              "0.9719531628109493"
            ]
          },
          "metadata": {
            "tags": []
          },
          "execution_count": 109
        }
      ]
    },
    {
      "cell_type": "code",
      "metadata": {
        "id": "AulIXTXKQM8y",
        "colab_type": "code",
        "colab": {}
      },
      "source": [
        "Poly_pred = regressor_3.predict(poly_reg.fit_transform(x_test))"
      ],
      "execution_count": 0,
      "outputs": []
    },
    {
      "cell_type": "code",
      "metadata": {
        "id": "I-bmIRhMQM82",
        "colab_type": "code",
        "colab": {},
        "outputId": "72455811-30d5-4037-ca4a-5c3279348d7f"
      },
      "source": [
        "y_test"
      ],
      "execution_count": 0,
      "outputs": [
        {
          "output_type": "execute_result",
          "data": {
            "text/plain": [
              "array([ 93940., 112635.,  61111., 113812.,  54445.,  46205.])"
            ]
          },
          "metadata": {
            "tags": []
          },
          "execution_count": 112
        }
      ]
    },
    {
      "cell_type": "code",
      "metadata": {
        "id": "y3r2JLA9QM86",
        "colab_type": "code",
        "colab": {},
        "outputId": "f621d644-0d51-49bb-a4d9-3ace40cb74a6"
      },
      "source": [
        "regressor_3.predict(poly_reg.fit_transform(x_test))"
      ],
      "execution_count": 0,
      "outputs": [
        {
          "output_type": "execute_result",
          "data": {
            "text/plain": [
              "array([ 81606.08119739, 113100.97174174,  65719.92435293, 106220.09335503,\n",
              "        55358.42889653,  38298.14076397])"
            ]
          },
          "metadata": {
            "tags": []
          },
          "execution_count": 113
        }
      ]
    },
    {
      "cell_type": "code",
      "metadata": {
        "id": "3vf98kN2QM8-",
        "colab_type": "code",
        "colab": {},
        "outputId": "1c2b6bdc-dc2e-4686-c57c-24b59c545d62"
      },
      "source": [
        " # Visualising the results\n",
        "plt.scatter(x_test, y_test, color = 'red') #Scatter plot of the X an y dataset\n",
        "\n",
        "plt.scatter(x_test,  regressor_3.predict(poly_reg.fit_transform(x_test)), color = 'blue')#Line plot of X against predicted Y \n",
        "#(remember that output of regressor_2.predict is y_pred)\n",
        "\n",
        "plt.title('Simple Linear Regression of Predictor vs Dependent variable')\n",
        "plt.xlabel('x_test (Predictor)')\n",
        "plt.ylabel('y_test(Dependent Variable)')\n",
        "plt.show()\n"
      ],
      "execution_count": 0,
      "outputs": [
        {
          "output_type": "display_data",
          "data": {
            "image/png": "[encoded data removed]",
            "text/plain": [
              "<Figure size 432x288 with 1 Axes>"
            ]
          },
          "metadata": {
            "tags": [],
            "needs_background": "light"
          }
        }
      ]
    },
    {
      "cell_type": "code",
      "metadata": {
        "id": "WVPiEKJzQM9D",
        "colab_type": "code",
        "colab": {}
      },
      "source": [
        ""
      ],
      "execution_count": 0,
      "outputs": []
    }
  ]
}